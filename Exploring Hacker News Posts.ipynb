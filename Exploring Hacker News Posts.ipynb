{
 "cells": [
  {
   "cell_type": "markdown",
   "id": "d09a5562",
   "metadata": {},
   "source": [
    "# Exploring Hacker News Posts\n",
    "This project aims to determine the types of posts which receive the most comments on average.\n",
    "\n",
    "Hacker News have specific posts that begin with 'Ask HN' or 'Show HN'. 'Ask HN' refers to a post in which a user asks the community a specific question. 'Show HN' refers to a post in which a user intends to show the community a project, product or something of interest. \n",
    "\n",
    "The goal for this project is to determine the following:\n",
    "* Do 'Ask HN', 'Show HN' or Other posts receive more comments and points on average?\n",
    "* Do posts created at a certain time receive more comments and points on average?\n",
    "* Overall, what is best to post and when should it be posted?\n"
   ]
  },
  {
   "cell_type": "markdown",
   "id": "33a61fe1",
   "metadata": {},
   "source": [
    "## Opening & Exploring the Dataset\n",
    "Before importing the dataset we plan on exploring, a reproducible function will be created that will allow for quick exploration of datasets. In doing so, it will output the necessary rows as well as the number of rows and columns present if required."
   ]
  },
  {
   "cell_type": "code",
   "execution_count": 1,
   "id": "038a15d4",
   "metadata": {},
   "outputs": [],
   "source": [
    "def explore_data(dataset, start, end, rows_and_columns = False, header = False):\n",
    "    dataset_slice = dataset[start:end] # slices data using inputted integer values\n",
    "    for row in dataset_slice:\n",
    "        print(row)\n",
    "        print('\\n') # adds a new (empty) line after each row\n",
    "        \n",
    "    rows = len(dataset)\n",
    "    columns = len(dataset[0])\n",
    "        \n",
    "    if header:\n",
    "        rows -= 1 # if dataset contains header, ignore header row\n",
    "        \n",
    "    if rows_and_columns:\n",
    "        print('Number of rows:', rows)\n",
    "        print('Number of columns:', columns)"
   ]
  },
  {
   "cell_type": "markdown",
   "id": "6dc75973",
   "metadata": {},
   "source": [
    "The Hacker News dataset can now be imported for analysis. You can find the dataset [here](https://www.kaggle.com/datasets/hacker-news/hacker-news-posts?resource=download)."
   ]
  },
  {
   "cell_type": "code",
   "execution_count": 2,
   "id": "c6059d67",
   "metadata": {},
   "outputs": [],
   "source": [
    "from csv import reader\n",
    "opened_hacker = open(\"Datasets/HN_posts_year_to_Sep_26_2016.csv\", encoding = 'utf8')\n",
    "read_hacker = reader(opened_hacker)\n",
    "hacker = list(read_hacker)"
   ]
  },
  {
   "cell_type": "code",
   "execution_count": 3,
   "id": "e025cbd9",
   "metadata": {},
   "outputs": [
    {
     "name": "stdout",
     "output_type": "stream",
     "text": [
      "['id', 'title', 'url', 'num_points', 'num_comments', 'author', 'created_at']\n",
      "\n",
      "\n",
      "['12579008', 'You have two days to comment if you want stem cells to be classified as your own', 'http://www.regulations.gov/document?D=FDA-2015-D-3719-0018', '1', '0', 'altstar', '9/26/2016 3:26']\n",
      "\n",
      "\n",
      "['12579005', 'SQLAR  the SQLite Archiver', 'https://www.sqlite.org/sqlar/doc/trunk/README.md', '1', '0', 'blacksqr', '9/26/2016 3:24']\n",
      "\n",
      "\n",
      "['12578997', 'What if we just printed a flatscreen television on the side of our boxes?', 'https://medium.com/vanmoof/our-secrets-out-f21c1f03fdc8#.ietxmez43', '1', '0', 'pavel_lishin', '9/26/2016 3:19']\n",
      "\n",
      "\n",
      "['12578989', 'algorithmic music', 'http://cacm.acm.org/magazines/2011/7/109891-algorithmic-composition/fulltext', '1', '0', 'poindontcare', '9/26/2016 3:16']\n",
      "\n",
      "\n",
      "['12578979', 'How the Data Vault Enables the Next-Gen Data Warehouse and Data Lake', 'https://www.talend.com/blog/2016/05/12/talend-and-Â\\x93the-data-vaultÂ\\x94', '1', '0', 'markgainor1', '9/26/2016 3:14']\n",
      "\n",
      "\n"
     ]
    }
   ],
   "source": [
    "explore_data(hacker, 0, 6)"
   ]
  },
  {
   "cell_type": "markdown",
   "id": "85676a17",
   "metadata": {},
   "source": [
    "The first 5 rows of the dataset have been printed above, alongside the header columns. Below are descriptions of the columns:\n",
    "* `id`: the unique identifier from Hacker News for the post\n",
    "* `title`: the title of the post\n",
    "* `url`: the URL that the post links to, if the post has a URL\n",
    "* `num_points`: the number of points the post acquired, calculated as the total number of upvotes minus the total number of downvotes\n",
    "* `num_comments`: the number of comments on the post\n",
    "* `author`: the username of the person who submitted the post\n",
    "* `created_at`: the date and time of the post's submission"
   ]
  },
  {
   "cell_type": "markdown",
   "id": "7cdcfc11",
   "metadata": {},
   "source": [
    "## Cleaning the Dataset"
   ]
  },
  {
   "cell_type": "markdown",
   "id": "3eaec5e2",
   "metadata": {},
   "source": [
    "### Removal of Headers\n",
    "In order to analyse the data, we need to remove the row containing the column headers.\n"
   ]
  },
  {
   "cell_type": "code",
   "execution_count": 4,
   "id": "a301e156",
   "metadata": {},
   "outputs": [
    {
     "name": "stdout",
     "output_type": "stream",
     "text": [
      "['id', 'title', 'url', 'num_points', 'num_comments', 'author', 'created_at']\n"
     ]
    }
   ],
   "source": [
    "headers = hacker[0]\n",
    "hacker = hacker[1:]\n",
    "print(headers)"
   ]
  },
  {
   "cell_type": "code",
   "execution_count": 5,
   "id": "432fee03",
   "metadata": {},
   "outputs": [
    {
     "name": "stdout",
     "output_type": "stream",
     "text": [
      "['12579008', 'You have two days to comment if you want stem cells to be classified as your own', 'http://www.regulations.gov/document?D=FDA-2015-D-3719-0018', '1', '0', 'altstar', '9/26/2016 3:26']\n",
      "\n",
      "\n",
      "['12579005', 'SQLAR  the SQLite Archiver', 'https://www.sqlite.org/sqlar/doc/trunk/README.md', '1', '0', 'blacksqr', '9/26/2016 3:24']\n",
      "\n",
      "\n",
      "['12578997', 'What if we just printed a flatscreen television on the side of our boxes?', 'https://medium.com/vanmoof/our-secrets-out-f21c1f03fdc8#.ietxmez43', '1', '0', 'pavel_lishin', '9/26/2016 3:19']\n",
      "\n",
      "\n",
      "['12578989', 'algorithmic music', 'http://cacm.acm.org/magazines/2011/7/109891-algorithmic-composition/fulltext', '1', '0', 'poindontcare', '9/26/2016 3:16']\n",
      "\n",
      "\n",
      "['12578979', 'How the Data Vault Enables the Next-Gen Data Warehouse and Data Lake', 'https://www.talend.com/blog/2016/05/12/talend-and-Â\\x93the-data-vaultÂ\\x94', '1', '0', 'markgainor1', '9/26/2016 3:14']\n",
      "\n",
      "\n"
     ]
    }
   ],
   "source": [
    "explore_data(hacker, 0, 5)"
   ]
  },
  {
   "cell_type": "markdown",
   "id": "5cdc0a87",
   "metadata": {},
   "source": [
    "We can now see the headers are no longer present in the dataset."
   ]
  },
  {
   "cell_type": "markdown",
   "id": "b852dd3e",
   "metadata": {},
   "source": [
    "### Removal of Non-Commented Posts\n",
    "Given the aim of the project is to assess the average number of comments relative to each post type, we will reduce the size of the database by removing all submissions that failed to receive any comments."
   ]
  },
  {
   "cell_type": "code",
   "execution_count": 6,
   "id": "77f58997",
   "metadata": {},
   "outputs": [],
   "source": [
    "for row in hacker:\n",
    "    num = row[4]\n",
    "    if int(num) == 0:\n",
    "        del row"
   ]
  },
  {
   "cell_type": "markdown",
   "id": "fd83beeb",
   "metadata": {},
   "source": [
    "We will loop over the dataset to check if the previous code cell performed as expected."
   ]
  },
  {
   "cell_type": "code",
   "execution_count": 7,
   "id": "a095b6a1",
   "metadata": {},
   "outputs": [
    {
     "name": "stdout",
     "output_type": "stream",
     "text": [
      "212718\n"
     ]
    }
   ],
   "source": [
    "count = 0\n",
    "for row in hacker:\n",
    "    num = row[4]\n",
    "    if int(num) == 0:\n",
    "        count += 1\n",
    "print(count)"
   ]
  },
  {
   "cell_type": "markdown",
   "id": "ef8300ee",
   "metadata": {},
   "source": [
    "### Filtering of Posts\n",
    "Since we're only concerned with post titles beginning with 'Ask HN' or 'Show HN', we'll create new 2D lists containing just the data for those titles.\n",
    "\n",
    "To find the posts that begin with either 'Ask HN' or 'Show HN', we'll use the string method `startswith`."
   ]
  },
  {
   "cell_type": "code",
   "execution_count": 8,
   "id": "5b6f14dc",
   "metadata": {},
   "outputs": [],
   "source": [
    "ask_posts = []\n",
    "show_posts = []\n",
    "other_posts = []\n",
    "\n",
    "for row in hacker:\n",
    "    title = row[1].lower()\n",
    "    if title.startswith('ask hn'):\n",
    "        ask_posts.append(row)\n",
    "    elif title.startswith('show hn'):\n",
    "        show_posts.append(row)\n",
    "    else:\n",
    "        other_posts.append(row)\n",
    "    "
   ]
  },
  {
   "cell_type": "code",
   "execution_count": 9,
   "id": "5d6646f0",
   "metadata": {},
   "outputs": [
    {
     "name": "stdout",
     "output_type": "stream",
     "text": [
      " Ask HN: 9,139\n",
      " Show HN: 10,158\n",
      " Other: 273,822.\n"
     ]
    }
   ],
   "source": [
    "print(\" Ask HN: {:,}\\n Show HN: {:,}\\n Other: {:,}.\".format(len(ask_posts), len(show_posts), len(other_posts)))"
   ]
  },
  {
   "cell_type": "code",
   "execution_count": 10,
   "id": "445dd098",
   "metadata": {},
   "outputs": [
    {
     "name": "stdout",
     "output_type": "stream",
     "text": [
      "['12578908', 'Ask HN: What TLD do you use for local development?', '', '4', '7', 'Sevrene', '9/26/2016 2:53']\n",
      "\n",
      "\n",
      "['12578522', 'Ask HN: How do you pass on your work when you die?', '', '6', '3', 'PascLeRasc', '9/26/2016 1:17']\n",
      "\n",
      "\n",
      "['12577908', 'Ask HN: How a DNS problem can be limited to a geographic region?', '', '1', '0', 'kuon', '9/25/2016 22:57']\n",
      "\n",
      "\n",
      "['12577870', 'Ask HN: Why join a fund when you can be an angel?', '', '1', '3', 'anthony_james', '9/25/2016 22:48']\n",
      "\n",
      "\n",
      "['12577647', 'Ask HN: Someone uses stock trading as passive income?', '', '5', '2', '00taffe', '9/25/2016 21:50']\n",
      "\n",
      "\n"
     ]
    }
   ],
   "source": [
    "explore_data(ask_posts, 0, 5)"
   ]
  },
  {
   "cell_type": "code",
   "execution_count": 11,
   "id": "e9cb60f7",
   "metadata": {},
   "outputs": [
    {
     "name": "stdout",
     "output_type": "stream",
     "text": [
      "['12578335', 'Show HN: Finding puns computationally', 'http://puns.samueltaylor.org/', '2', '0', 'saamm', '9/26/2016 0:36']\n",
      "\n",
      "\n",
      "['12578182', 'Show HN: A simple library for complicated animations', 'https://christinecha.github.io/choreographer-js/', '1', '0', 'christinecha', '9/26/2016 0:01']\n",
      "\n",
      "\n",
      "['12578098', 'Show HN: WebGL visualization of DNA sequences', 'http://grondilu.github.io/dna.html', '1', '0', 'grondilu', '9/25/2016 23:44']\n",
      "\n",
      "\n",
      "['12577991', 'Show HN: Pomodoro-centric, heirarchical project management with ES6 modules', 'https://github.com/jakebian/zeal', '2', '0', 'dbranes', '9/25/2016 23:17']\n",
      "\n",
      "\n",
      "['12577142', 'Show HN: Jumble  Essays on the go #PaulInYourPocket', 'https://itunes.apple.com/us/app/jumble-find-startup-essay/id1150939197?ls=1&mt=8', '1', '1', 'ryderj', '9/25/2016 20:06']\n",
      "\n",
      "\n"
     ]
    }
   ],
   "source": [
    "explore_data(show_posts, 0, 5)"
   ]
  },
  {
   "cell_type": "markdown",
   "id": "ff4309d5",
   "metadata": {},
   "source": [
    "## Analysis of Dataset\n",
    "### How to Attract Comments\n",
    "#### Which Posts Receive More Comments?"
   ]
  },
  {
   "cell_type": "code",
   "execution_count": 12,
   "id": "8d065506",
   "metadata": {},
   "outputs": [
    {
     "name": "stdout",
     "output_type": "stream",
     "text": [
      "The average number of ask comments is  10.393478498741656\n",
      "The average number of show comments is  4.886099625910612\n",
      "The average number of other comments is  6.4572678601427205\n"
     ]
    }
   ],
   "source": [
    "total_ask_comments = 0\n",
    "total_show_comments = 0\n",
    "total_other_comments = 0\n",
    "\n",
    "for row in ask_posts:\n",
    "    total_ask_comments += int(row[4])\n",
    "avg_ask_comments = total_ask_comments / len(ask_posts)\n",
    "print(\"The average number of ask comments is \", avg_ask_comments)\n",
    "\n",
    "for row in show_posts:\n",
    "    total_show_comments += int(row[4])\n",
    "avg_show_comments = total_show_comments / len(show_posts)\n",
    "print(\"The average number of show comments is \", avg_show_comments)\n",
    "\n",
    "for row in other_posts:\n",
    "    total_other_comments += int(row[4])\n",
    "avg_other_comments = total_other_comments / len(other_posts)\n",
    "print(\"The average number of other comments is \", avg_other_comments)"
   ]
  },
  {
   "cell_type": "markdown",
   "id": "e26b6ee0",
   "metadata": {},
   "source": [
    "We can see that there are over double the number of comments on 'Ask HN' posts as there is on 'Show HN' posts, showing that Ask HN posts attract more comments. Posts other than Show HN or Ask HN attract 6.46 comments."
   ]
  },
  {
   "cell_type": "markdown",
   "id": "7e3b8e6f",
   "metadata": {},
   "source": [
    "#### Are Ask Posts Created at Specific Times More Likely to Attract Comments?"
   ]
  },
  {
   "cell_type": "markdown",
   "id": "c2ed4a58",
   "metadata": {},
   "source": [
    "To answer this questions, the following steps will be carried out to perform the analysis:\n",
    "* Calculate the number of ask posts created in each hour of the day, along with the number of comments received.\n",
    "* Calculate the average number of comments ask posts receive by hour created."
   ]
  },
  {
   "cell_type": "code",
   "execution_count": 13,
   "id": "f932e6f6",
   "metadata": {},
   "outputs": [],
   "source": [
    "import datetime as dt\n",
    "\n",
    "result_list = []\n",
    "counts_by_hour = {}\n",
    "comments_by_hour = {}\n",
    "\n",
    "for row in ask_posts:\n",
    "    time = row[6]\n",
    "    num = int(row[4])\n",
    "    time = dt.datetime.strptime(time, \"%m/%d/%Y %H:%M\")\n",
    "    hour = time.strftime(\"%H\")\n",
    "    if hour in counts_by_hour:\n",
    "        counts_by_hour[hour] += 1\n",
    "        comments_by_hour[hour] += num\n",
    "    else:\n",
    "        counts_by_hour[hour] = 1\n",
    "        comments_by_hour[hour] = num"
   ]
  },
  {
   "cell_type": "markdown",
   "id": "cb27a0e2",
   "metadata": {},
   "source": [
    "We now have two dictionaries:\n",
    "* `counts_by_hour`: contains the number of ask posts created during each hour of the day.\n",
    "* `comments_by_hour`: contains the corresponding number of comments ask posts created at each hour received.\n",
    "\n",
    "We can now use these two dictionaries to calculate the average number of comments for posts created during each hour of the day. "
   ]
  },
  {
   "cell_type": "code",
   "execution_count": 14,
   "id": "ae1bcfbd",
   "metadata": {},
   "outputs": [
    {
     "data": {
      "text/plain": [
       "[['02', 11.137546468401487],\n",
       " ['01', 7.407801418439717],\n",
       " ['22', 8.804177545691905],\n",
       " ['21', 8.687258687258687],\n",
       " ['19', 7.163043478260869],\n",
       " ['17', 9.449744463373083],\n",
       " ['15', 28.676470588235293],\n",
       " ['14', 9.692007797270955],\n",
       " ['13', 16.31756756756757],\n",
       " ['11', 8.96474358974359],\n",
       " ['10', 10.684397163120567],\n",
       " ['09', 6.653153153153153],\n",
       " ['07', 7.013274336283186],\n",
       " ['03', 7.948339483394834],\n",
       " ['23', 6.696793002915452],\n",
       " ['20', 8.749019607843136],\n",
       " ['16', 7.713298791018998],\n",
       " ['08', 9.190661478599221],\n",
       " ['00', 7.5647840531561465],\n",
       " ['18', 7.94299674267101],\n",
       " ['12', 12.380116959064328],\n",
       " ['04', 9.7119341563786],\n",
       " ['06', 6.782051282051282],\n",
       " ['05', 8.794258373205741]]"
      ]
     },
     "execution_count": 14,
     "metadata": {},
     "output_type": "execute_result"
    }
   ],
   "source": [
    "avg_by_hour = []\n",
    "\n",
    "for post in counts_by_hour:\n",
    "    avg = float(comments_by_hour[post]) / counts_by_hour[post]\n",
    "    avg_by_hour.append([post, avg])\n",
    "avg_by_hour"
   ]
  },
  {
   "cell_type": "markdown",
   "id": "a3bb367a",
   "metadata": {},
   "source": [
    "Although we now have the results we need, this format makes it difficult to identify the hours with the highest values. We will sort the 2D list and print the 5 highest values in a more readable format."
   ]
  },
  {
   "cell_type": "code",
   "execution_count": 15,
   "id": "360937e4",
   "metadata": {
    "scrolled": true
   },
   "outputs": [
    {
     "data": {
      "text/plain": [
       "[[11.137546468401487, '02'],\n",
       " [7.407801418439717, '01'],\n",
       " [8.804177545691905, '22'],\n",
       " [8.687258687258687, '21'],\n",
       " [7.163043478260869, '19'],\n",
       " [9.449744463373083, '17'],\n",
       " [28.676470588235293, '15'],\n",
       " [9.692007797270955, '14'],\n",
       " [16.31756756756757, '13'],\n",
       " [8.96474358974359, '11'],\n",
       " [10.684397163120567, '10'],\n",
       " [6.653153153153153, '09'],\n",
       " [7.013274336283186, '07'],\n",
       " [7.948339483394834, '03'],\n",
       " [6.696793002915452, '23'],\n",
       " [8.749019607843136, '20'],\n",
       " [7.713298791018998, '16'],\n",
       " [9.190661478599221, '08'],\n",
       " [7.5647840531561465, '00'],\n",
       " [7.94299674267101, '18'],\n",
       " [12.380116959064328, '12'],\n",
       " [9.7119341563786, '04'],\n",
       " [6.782051282051282, '06'],\n",
       " [8.794258373205741, '05']]"
      ]
     },
     "execution_count": 15,
     "metadata": {},
     "output_type": "execute_result"
    }
   ],
   "source": [
    "swap_avg_by_hour = []\n",
    "for row in avg_by_hour:\n",
    "    swap_avg_by_hour.append([row[1], row[0]])\n",
    "swap_avg_by_hour"
   ]
  },
  {
   "cell_type": "code",
   "execution_count": 16,
   "id": "eaf43c8b",
   "metadata": {},
   "outputs": [
    {
     "name": "stdout",
     "output_type": "stream",
     "text": [
      "Top 5 Hours for Ask Posts Comments\n",
      "15:00: 28.68 average comments per post\n",
      "13:00: 16.32 average comments per post\n",
      "12:00: 12.38 average comments per post\n",
      "02:00: 11.14 average comments per post\n",
      "10:00: 10.68 average comments per post\n"
     ]
    }
   ],
   "source": [
    "sorted_swap = sorted(swap_avg_by_hour, reverse = True)\n",
    "print(\"Top 5 Hours for Ask Posts Comments\")\n",
    "template = \"{}: {:.2f} average comments per post\"\n",
    "for i in range(5):\n",
    "    print(template.format(dt.datetime.strptime(sorted_swap[i][1], \"%H\").strftime(\"%H:%M\"), sorted_swap[i][0]))"
   ]
  },
  {
   "cell_type": "markdown",
   "id": "f67c9bcf",
   "metadata": {},
   "source": [
    "From the displayed results, it is clear creating an Ask HN post at 15:00 EST (20:00 BST) results in a higher chance of receiving comments. Ask HN posts created at this time generate 28.68 comments per post on average, representing a 76% increase from the second highest average displayed.\n",
    "\n",
    "#### Are Show Posts Created at Specific Times More Likely to Attract Comments?\n",
    "To answer this question, the same steps will be followed. As we are repeating the same code, we will make it a function."
   ]
  },
  {
   "cell_type": "code",
   "execution_count": 17,
   "id": "4a2c31d7",
   "metadata": {},
   "outputs": [],
   "source": [
    "def top_comments(dataset, post_type):\n",
    "    result_list = []\n",
    "    counts_by_hour = {}\n",
    "    comments_by_hour = {}\n",
    "\n",
    "    for row in dataset:\n",
    "        time = row[6]\n",
    "        num = int(row[4])\n",
    "        time = dt.datetime.strptime(time, \"%m/%d/%Y %H:%M\")\n",
    "        hour = time.strftime(\"%H\")\n",
    "        if hour in counts_by_hour:\n",
    "            counts_by_hour[hour] += 1\n",
    "            comments_by_hour[hour] += num\n",
    "        else:\n",
    "            counts_by_hour[hour] = 1\n",
    "            comments_by_hour[hour] = num\n",
    "\n",
    "    avg_by_hour = []\n",
    "\n",
    "    for post in counts_by_hour:\n",
    "        avg = float(comments_by_hour[post]) / counts_by_hour[post]\n",
    "        avg_by_hour.append([post, avg])\n",
    "\n",
    "    swap_avg_by_hour = []\n",
    "    for row in avg_by_hour:\n",
    "        swap_avg_by_hour.append([row[1], row[0]])\n",
    "\n",
    "    sorted_swap = sorted(swap_avg_by_hour, reverse = True)\n",
    "    print(\"Top 5 Hours for {} Comments\".format(post_type))\n",
    "    template = \"{}: {:.2f} average comments per post\"\n",
    "    for i in range(5):\n",
    "        print(template.format(dt.datetime.strptime(sorted_swap[i][1], \"%H\").strftime(\"%H:%M\"), sorted_swap[i][0]))"
   ]
  },
  {
   "cell_type": "code",
   "execution_count": 18,
   "id": "5a6938b3",
   "metadata": {},
   "outputs": [
    {
     "name": "stdout",
     "output_type": "stream",
     "text": [
      "Top 5 Hours for Show Post Comments\n",
      "12:00: 6.99 average comments per post\n",
      "07:00: 6.68 average comments per post\n",
      "11:00: 6.00 average comments per post\n",
      "08:00: 5.60 average comments per post\n",
      "14:00: 5.52 average comments per post\n"
     ]
    }
   ],
   "source": [
    "top_comments(show_posts, 'Show Post')"
   ]
  },
  {
   "cell_type": "markdown",
   "id": "fc73d8a1",
   "metadata": {},
   "source": [
    "Creating a Show HN post at 12:00 EST (17:00 BST) results in a higher chance of receiving comments. Show HN posts created at this time generate 6.99 comments per post on average, showing only 0.31 increase in comments per post from the 2nd highest average displayed. In fact, there is only a 27% increase in the number of comments averaged per post between the highest average time and the 5th highest average. This may highlight that the time a Show HN post is created plays less of a role in its ability to generate comments compared to Ask HN posts."
   ]
  },
  {
   "cell_type": "markdown",
   "id": "6e72c108",
   "metadata": {},
   "source": [
    "#### Are Other Posts Created at Specific Times More Likely to Attract Comments?\n",
    "To answer this question, the previously created function will be used. Other posts refer to posts that are neither Ask HN posts or Show HN posts."
   ]
  },
  {
   "cell_type": "code",
   "execution_count": 19,
   "id": "a2665e7a",
   "metadata": {},
   "outputs": [
    {
     "name": "stdout",
     "output_type": "stream",
     "text": [
      "Top 5 Hours for Other Comments\n",
      "12:00: 7.59 average comments per post\n",
      "11:00: 7.37 average comments per post\n",
      "02:00: 7.18 average comments per post\n",
      "13:00: 7.15 average comments per post\n",
      "05:00: 6.79 average comments per post\n"
     ]
    }
   ],
   "source": [
    "top_comments(other_posts, \"Other\")"
   ]
  },
  {
   "cell_type": "markdown",
   "id": "2f7d29f8",
   "metadata": {},
   "source": [
    "Creating other posts at 12:00 EST (17:00 BST) results in a higher chance of attracting comments. However, similar to the Show HN posts, there is very little difference between the number of comments received, with there only being a 0.45 difference in the number of comments generated from the highest average and 4th highest average.\n",
    "\n",
    "Interestingly, both Show HN and Other posts created at 12:00 EST (17:00 BST) attract the most comments, suggesting that this is the time users should post to potentially maximise their chance of receiving comments. Furthermore, 11:00 EST (16:00 BST) is 2nd highest for Other posts and 3rd highest for Show HN posts, suggesting that a time interval of 11:00 - 13:00 EST is best for creating posts.\n",
    "\n",
    "To assess if this analysis is a true observation, analysis of all posts with comments will be completed.\n",
    "\n",
    "#### Are Posts Created at Specific Times More Likely to Attract Comments?"
   ]
  },
  {
   "cell_type": "code",
   "execution_count": 20,
   "id": "b88a6512",
   "metadata": {},
   "outputs": [
    {
     "name": "stdout",
     "output_type": "stream",
     "text": [
      "Top 5 Hours for All Comments\n",
      "12:00: 7.69 average comments per post\n",
      "11:00: 7.37 average comments per post\n",
      "13:00: 7.34 average comments per post\n",
      "02:00: 7.27 average comments per post\n",
      "15:00: 7.05 average comments per post\n"
     ]
    }
   ],
   "source": [
    "top_comments(hacker, \"All\")"
   ]
  },
  {
   "cell_type": "markdown",
   "id": "40ea47dd",
   "metadata": {},
   "source": [
    "We can see that the times displayed have all appeared previously in the analysis, most notably our time interval of 11:00 - 12:00 EST, with these times appearing as the highest and second highest averages. Posts created at 11:00 EST only generate 0.03 more comments than posts created at 13:00 EST (18:00 BST). 13:00 EST was seen as the 4th highest average for Other posts and 2nd highest for Ask HN posts, therefore this is clearly a suitable time to post to generate more comments.\n",
    "\n",
    "From this analysis, it can be said that the most suitable time interval to create a post to attract more comments would be 11:00 - 14:00 EST (16:00 - 19:00 BST)."
   ]
  },
  {
   "cell_type": "markdown",
   "id": "e43da385",
   "metadata": {},
   "source": [
    "### How to Generate Points on Posts\n",
    "#### Which Posts Receive More Points?"
   ]
  },
  {
   "cell_type": "code",
   "execution_count": 21,
   "id": "60d99708",
   "metadata": {},
   "outputs": [
    {
     "name": "stdout",
     "output_type": "stream",
     "text": [
      "The average number of points for Ask HN posts is  11.31174089068826\n",
      "The average number of points for Show HN posts is  14.843571569206537\n",
      "The average number of points for Other posts is  15.156010108756783\n"
     ]
    }
   ],
   "source": [
    "total_ask_points = 0\n",
    "total_show_points = 0\n",
    "total_other_points = 0\n",
    "\n",
    "for row in ask_posts:\n",
    "    total_ask_points += int(row[3])\n",
    "avg_ask_points = total_ask_points / len(ask_posts)\n",
    "print(\"The average number of points for Ask HN posts is \", avg_ask_points)\n",
    "\n",
    "for row in show_posts:\n",
    "    total_show_points += int(row[3])\n",
    "avg_show_points = total_show_points / len(show_posts)\n",
    "print(\"The average number of points for Show HN posts is \", avg_show_points)\n",
    "\n",
    "for row in other_posts:\n",
    "    total_other_points += int(row[3])\n",
    "avg_other_points = total_other_points / len(other_posts)\n",
    "print(\"The average number of points for Other posts is \", avg_other_points)"
   ]
  },
  {
   "cell_type": "markdown",
   "id": "aa3f37d7",
   "metadata": {},
   "source": [
    "Here, we can see that staying clear of Ask or Show HN posts results in greater chance of gaining points on a post, as Other posts receive 15 points per post on average. Ask HN posts receive the least, receiving 11 points per post on average.\n",
    "\n",
    "Considering Ask HN posts generate the most comments, it is interesting that it receives the least amount of points, suggesting that the Ask HN and Show HN communities may differ in their interactions. As Ask HN posts require users to comment and answer, receiving a greater number of posts and a lower amount of points is understandible as showing appreciation of the post via upvoting is not as necessary. In contrast, Show HN posts are less likely to receive comments as these posts are designed for users to show appreciation for the post through an upvote. "
   ]
  },
  {
   "cell_type": "markdown",
   "id": "71d27cf2",
   "metadata": {},
   "source": [
    "#### Are Ask Posts Created at Specific Times More Likely to Receive Points?\n",
    "To answer this question, an approach similar to what was used to analyse the comments will be followed. "
   ]
  },
  {
   "cell_type": "code",
   "execution_count": 22,
   "id": "c969c53e",
   "metadata": {},
   "outputs": [],
   "source": [
    "def most_points(dataset, post_type):\n",
    "    result_list = []\n",
    "    counts_by_hour = {}\n",
    "    points_by_hour = {}\n",
    "\n",
    "    for row in dataset:\n",
    "        time = row[6]\n",
    "        points = int(row[3])\n",
    "        time = dt.datetime.strptime(time, \"%m/%d/%Y %H:%M\")\n",
    "        hour = time.strftime(\"%H\")\n",
    "        if hour in counts_by_hour:\n",
    "            counts_by_hour[hour] += 1\n",
    "            points_by_hour[hour] += points\n",
    "        else:\n",
    "            counts_by_hour[hour] = 1\n",
    "            points_by_hour[hour] = points\n",
    "\n",
    "    avg_by_hour = []\n",
    "\n",
    "    for post in counts_by_hour:\n",
    "        avg = float(points_by_hour[post]) / counts_by_hour[post]\n",
    "        avg_by_hour.append([post, avg])\n",
    "\n",
    "    swap_avg_by_hour = []\n",
    "    for row in avg_by_hour:\n",
    "        swap_avg_by_hour.append([row[1], row[0]])\n",
    "\n",
    "    sorted_swap = sorted(swap_avg_by_hour, reverse = True)\n",
    "    print(\"Top 5 Hours to Generate Points for {} Posts\".format(post_type))\n",
    "    template = \"{}: {:.2f} average points per post\"\n",
    "    for i in range(5):\n",
    "        print(template.format(dt.datetime.strptime(sorted_swap[i][1], \"%H\").strftime(\"%H:%M\"), sorted_swap[i][0]))"
   ]
  },
  {
   "cell_type": "code",
   "execution_count": 23,
   "id": "7a3e897a",
   "metadata": {},
   "outputs": [
    {
     "name": "stdout",
     "output_type": "stream",
     "text": [
      "Top 5 Hours to Generate Points for Ask HN Posts\n",
      "15:00: 21.64 average points per post\n",
      "13:00: 17.93 average points per post\n",
      "12:00: 13.58 average points per post\n",
      "10:00: 13.44 average points per post\n",
      "17:00: 12.19 average points per post\n"
     ]
    }
   ],
   "source": [
    "most_points(ask_posts, \"Ask HN\")"
   ]
  },
  {
   "cell_type": "markdown",
   "id": "03147b26",
   "metadata": {},
   "source": [
    "Interestingly, 4 of the 5 times present in this top 5 are also present when analysing the top 5 hours to attract comments, with only 17:00 EST (the 5th highest average) not being in the top 5 hours to attract comments list. Furthermore, the top 3 hours in this list are in the same order to the comments list. This suggests that these hours may be due to having an increased number of users present on the platform at these hours. This data is not currently available however analysis of the times in which most users are present could generate further insight. \n",
    "#### Are Show Posts Created at Specific Times More Likely to Receive Points?"
   ]
  },
  {
   "cell_type": "code",
   "execution_count": 24,
   "id": "ce9ebab4",
   "metadata": {},
   "outputs": [
    {
     "name": "stdout",
     "output_type": "stream",
     "text": [
      "Top 5 Hours to Generate Points for Show HN Posts\n",
      "12:00: 20.91 average points per post\n",
      "11:00: 19.26 average points per post\n",
      "13:00: 17.02 average points per post\n",
      "19:00: 16.06 average points per post\n",
      "06:00: 15.99 average points per post\n"
     ]
    }
   ],
   "source": [
    "most_points(show_posts, \"Show HN\")"
   ]
  },
  {
   "cell_type": "markdown",
   "id": "e3ff81b8",
   "metadata": {},
   "source": [
    "Again, we see similarities between the Show HN Comments list and Points list, with 3 of the 5 hours being present in both lists. We also see posts created at 12:00 EST (17:00 BST) not only attract more comments, but generate more points, further suggesting that this is the best time to post on the site. \n",
    "#### Are Other Posts Created at Specific Times  More Likely to Receive Points?"
   ]
  },
  {
   "cell_type": "code",
   "execution_count": 25,
   "id": "03fbf2da",
   "metadata": {},
   "outputs": [
    {
     "name": "stdout",
     "output_type": "stream",
     "text": [
      "Top 5 Hours to Generate Points for Other Posts\n",
      "02:00: 16.71 average points per post\n",
      "12:00: 16.70 average points per post\n",
      "11:00: 16.29 average points per post\n",
      "00:00: 16.12 average points per post\n",
      "13:00: 16.02 average points per post\n"
     ]
    }
   ],
   "source": [
    "most_points(other_posts, \"Other\")"
   ]
  },
  {
   "cell_type": "markdown",
   "id": "16e32755",
   "metadata": {},
   "source": [
    "It appears similarities between the comments and points lists is a theme, as 4 of the 5 times are present in both lists, with only 00:00 EST not being present in the comments list. 12:00 EST and 11:00 EST are found at 2nd and 3rd in this list, furthering the suggestion that posting between 11:00 EST - 13:00 EST is best. Analysis will be performed to determine if this is true for all posts with comments. It can also be noted that 13:00 EST (18:00 BST) is the 5th highest average.\n",
    "#### Are Posts Created at Specific Times More Likely to Receive Points?"
   ]
  },
  {
   "cell_type": "code",
   "execution_count": 26,
   "id": "efb8489e",
   "metadata": {
    "scrolled": true
   },
   "outputs": [
    {
     "name": "stdout",
     "output_type": "stream",
     "text": [
      "Top 5 Hours to Generate Points for All Posts\n",
      "12:00: 16.79 average points per post\n",
      "02:00: 16.41 average points per post\n",
      "11:00: 16.19 average points per post\n",
      "13:00: 16.11 average points per post\n",
      "00:00: 15.88 average points per post\n"
     ]
    }
   ],
   "source": [
    "most_points(hacker, \"All\")"
   ]
  },
  {
   "cell_type": "markdown",
   "id": "1b364122",
   "metadata": {},
   "source": [
    "Posts created at 12:00 EST (17:00 BST) receive the most points on average, generating 16.79. We also see 11:00 EST and 13:00 EST at 3rd and 4th respectively. Therefore, we can confidently say that the best time interval to create a post in order to generate points is 11:00 - 14:00 EST (16:00 - 19:00 BST). It must be noted that this is from data that excluded posts without comments."
   ]
  },
  {
   "cell_type": "markdown",
   "id": "9983f3b7",
   "metadata": {},
   "source": [
    "## Conclusion\n",
    "In this project, we analysed posts to determine which type of post and time receive the most comments and points on average. Based on the analysis, to maximize the amount of comments a post receives, it is recommended the post is categorised as an Ask HN post and created between 15:00 - 16:00 EST (20:00 - 21:00 BST). However, for all posts, it is best to post between 11:00 - 14:00 EST (16:00 - 19:00 BST). \n",
    "\n",
    "This time interval stays true for generating points, therefore it can be said that of the posts that received comments, posting between the hours of 11:00 EST and 14:00 EST, maximizes the number of comments and points a post can receive.\n",
    "\n",
    "This time interval being true for both comments and points suggests that these times may be when users are most active on Hacker News. Data on the number of users active at each hour of the day is not available, however this would be worth investigating to discover if this is the case or not. "
   ]
  }
 ],
 "metadata": {
  "kernelspec": {
   "display_name": "Python 3 (ipykernel)",
   "language": "python",
   "name": "python3"
  },
  "language_info": {
   "codemirror_mode": {
    "name": "ipython",
    "version": 3
   },
   "file_extension": ".py",
   "mimetype": "text/x-python",
   "name": "python",
   "nbconvert_exporter": "python",
   "pygments_lexer": "ipython3",
   "version": "3.9.12"
  }
 },
 "nbformat": 4,
 "nbformat_minor": 5
}
